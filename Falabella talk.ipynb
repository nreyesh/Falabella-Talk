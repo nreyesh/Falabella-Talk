{
 "cells": [
  {
   "cell_type": "markdown",
   "metadata": {},
   "source": [
    "## Modelo Small VGGNet"
   ]
  },
  {
   "cell_type": "code",
   "execution_count": 1,
   "metadata": {},
   "outputs": [],
   "source": [
    "from keras.models import Sequential\n",
    "from keras.layers.normalization import BatchNormalization\n",
    "from keras.layers.convolutional import Conv2D\n",
    "from keras.layers.convolutional import MaxPooling2D\n",
    "from keras.layers.core import Activation\n",
    "from keras.layers.core import Flatten\n",
    "from keras.layers.core import Dropout\n",
    "from keras.layers.core import Dense\n",
    "\n",
    "def SmallVGGNet(inputShape):\n",
    "    chanDim = -1\n",
    "    model = Sequential()\n",
    " \n",
    "    # CONV => RELU => POOL\n",
    "    model.add(Conv2D(32, (3, 3), padding=\"same\",input_shape=inputShape))\n",
    "    model.add(Activation(\"relu\"))\n",
    "    model.add(BatchNormalization(axis=chanDim))\n",
    "    model.add(MaxPooling2D(pool_size=(3, 3)))\n",
    "    model.add(Dropout(0.25))\n",
    "\n",
    "    # (CONV => RELU) * 2 => POOL\n",
    "    model.add(Conv2D(64, (3, 3), padding=\"same\"))\n",
    "    model.add(Activation(\"relu\"))\n",
    "    model.add(BatchNormalization(axis=chanDim))\n",
    "    model.add(Conv2D(64, (3, 3), padding=\"same\"))\n",
    "    model.add(Activation(\"relu\"))\n",
    "    model.add(BatchNormalization(axis=chanDim))\n",
    "    model.add(MaxPooling2D(pool_size=(2, 2)))\n",
    "    model.add(Dropout(0.25))\n",
    "\n",
    "    # (CONV => RELU) * 2 => POOL\n",
    "    model.add(Conv2D(128, (3, 3), padding=\"same\"))\n",
    "    model.add(Activation(\"relu\"))\n",
    "    model.add(BatchNormalization(axis=chanDim))\n",
    "    model.add(Conv2D(128, (3, 3), padding=\"same\"))\n",
    "    model.add(Activation(\"relu\"))\n",
    "    model.add(BatchNormalization(axis=chanDim))\n",
    "    model.add(MaxPooling2D(pool_size=(2, 2)))\n",
    "    model.add(Dropout(0.25))\n",
    "\n",
    "    # first (and only) set of FC => RELU layers\n",
    "    model.add(Flatten())\n",
    "    model.add(Dense(1024))\n",
    "    model.add(Activation(\"relu\"))\n",
    "    model.add(BatchNormalization())\n",
    "    model.add(Dropout(0.5))\n",
    "\n",
    "    # softmax classifier\n",
    "    model.add(Dense(3))\n",
    "    model.add(Activation('softmax'))\n",
    "\n",
    "    return model"
   ]
  },
  {
   "cell_type": "markdown",
   "metadata": {},
   "source": [
    "## Inicializacion entrenamiento"
   ]
  },
  {
   "cell_type": "code",
   "execution_count": 2,
   "metadata": {},
   "outputs": [],
   "source": [
    "from keras.preprocessing.image import ImageDataGenerator\n",
    "from keras.optimizers import Adam\n",
    "from keras.preprocessing.image import img_to_array\n",
    "from sklearn.model_selection import train_test_split\n",
    "import matplotlib.pyplot as plt\n",
    "import numpy as np\n",
    "import cv2\n",
    "import os\n",
    "\n",
    "IMAGE_DIMS = (96, 96, 3)"
   ]
  },
  {
   "cell_type": "markdown",
   "metadata": {},
   "source": [
    "## Carga de Imagenes"
   ]
  },
  {
   "cell_type": "code",
   "execution_count": 3,
   "metadata": {},
   "outputs": [
    {
     "name": "stdout",
     "output_type": "stream",
     "text": [
      "dataset2/shirts/blue-305.jpg\n"
     ]
    }
   ],
   "source": [
    "imgPaths = []\n",
    "\n",
    "for (root,dirs,files) in os.walk('dataset2', topdown=True): \n",
    "     if len(dirs) == 0:\n",
    "        for name in files:\n",
    "            if 'DS' in name:\n",
    "                continue\n",
    "            imgPaths.append(root+'/'+name)\n",
    "            #print (root) \n",
    "            #print (dirs) \n",
    "            #print (files) \n",
    "            \n",
    "print(imgPaths[0])"
   ]
  },
  {
   "cell_type": "code",
   "execution_count": 4,
   "metadata": {},
   "outputs": [],
   "source": [
    "data = []\n",
    "labels = []\n",
    "\n",
    "for imgPath in imgPaths:\n",
    "    # load the image, pre-process it, and store it in the data list\n",
    "    image = cv2.imread(imgPath)\n",
    "    image = cv2.resize(image, (IMAGE_DIMS[1], IMAGE_DIMS[0]))\n",
    "    image = img_to_array(image)\n",
    "    data.append(image)\n",
    "\n",
    "    # extract set of class labels from the image path and update the\n",
    "    # labels list\n",
    "    label = imgPath.split('/')[-2]\n",
    "    labels.append(label)\n",
    "\n",
    "# Normalizing image\n",
    "data = np.array(data, dtype='float')/255    \n",
    "labels = np.array(labels)"
   ]
  },
  {
   "cell_type": "markdown",
   "metadata": {},
   "source": [
    "## Label encoding"
   ]
  },
  {
   "cell_type": "code",
   "execution_count": 5,
   "metadata": {},
   "outputs": [],
   "source": [
    "from keras.utils import to_categorical\n",
    "from sklearn.preprocessing import LabelEncoder\n",
    "\n",
    "le = LabelEncoder()\n",
    "le.fit(labels)\n",
    "Y = le.transform(labels)\n",
    "\n",
    "Y = to_categorical(Y,num_classes=3)"
   ]
  },
  {
   "cell_type": "code",
   "execution_count": 56,
   "metadata": {},
   "outputs": [
    {
     "data": {
      "text/plain": [
       "array(['dresses', 'jeans', 'shirts'], dtype='<U7')"
      ]
     },
     "execution_count": 56,
     "metadata": {},
     "output_type": "execute_result"
    }
   ],
   "source": [
    "le.classes_"
   ]
  },
  {
   "cell_type": "markdown",
   "metadata": {},
   "source": [
    "## Spliting Data"
   ]
  },
  {
   "cell_type": "code",
   "execution_count": 6,
   "metadata": {},
   "outputs": [],
   "source": [
    "(trainX, testX, trainY, testY) = train_test_split(data,Y, test_size=0.3, stratify=Y, random_state=123)"
   ]
  },
  {
   "cell_type": "code",
   "execution_count": 7,
   "metadata": {},
   "outputs": [],
   "source": [
    "aug = ImageDataGenerator(width_shift_range=0.1,\n",
    "                        height_shift_range=0.1, \n",
    "                        shear_range=0.2,\n",
    "                        zoom_range=0.2,\n",
    "                        horizontal_flip=True,\n",
    "                        fill_mode=\"nearest\")"
   ]
  },
  {
   "cell_type": "code",
   "execution_count": 8,
   "metadata": {
    "scrolled": true
   },
   "outputs": [
    {
     "name": "stdout",
     "output_type": "stream",
     "text": [
      "Epoch 1/30\n",
      "94/94 [==============================] - 21s 212ms/step - loss: 1.0721 - accuracy: 0.6324 - val_loss: 1.2230 - val_accuracy: 0.3641\n",
      "Epoch 2/30\n",
      "94/94 [==============================] - 29s 313ms/step - loss: 0.4748 - accuracy: 0.8319 - val_loss: 1.7263 - val_accuracy: 0.3533\n",
      "Epoch 3/30\n",
      "94/94 [==============================] - 29s 303ms/step - loss: 0.3844 - accuracy: 0.8713 - val_loss: 0.8722 - val_accuracy: 0.5284\n",
      "Epoch 4/30\n",
      "94/94 [==============================] - 26s 274ms/step - loss: 0.3842 - accuracy: 0.8665 - val_loss: 0.7549 - val_accuracy: 0.7051\n",
      "Epoch 5/30\n",
      "94/94 [==============================] - 22s 233ms/step - loss: 0.3218 - accuracy: 0.8999 - val_loss: 0.5023 - val_accuracy: 0.8218\n",
      "Epoch 6/30\n",
      "94/94 [==============================] - 24s 257ms/step - loss: 0.3231 - accuracy: 0.9126 - val_loss: 0.2848 - val_accuracy: 0.9048\n",
      "Epoch 7/30\n",
      "94/94 [==============================] - 23s 242ms/step - loss: 0.2660 - accuracy: 0.9124 - val_loss: 0.2299 - val_accuracy: 0.9263\n",
      "Epoch 8/30\n",
      "94/94 [==============================] - 24s 251ms/step - loss: 0.2700 - accuracy: 0.9043 - val_loss: 0.1432 - val_accuracy: 0.9570\n",
      "Epoch 9/30\n",
      "94/94 [==============================] - 25s 261ms/step - loss: 0.2322 - accuracy: 0.9290 - val_loss: 0.2029 - val_accuracy: 0.9539\n",
      "Epoch 10/30\n",
      "94/94 [==============================] - 23s 241ms/step - loss: 0.2912 - accuracy: 0.9061 - val_loss: 0.1436 - val_accuracy: 0.9570\n",
      "Epoch 11/30\n",
      "94/94 [==============================] - 23s 249ms/step - loss: 0.2409 - accuracy: 0.9247 - val_loss: 0.1195 - val_accuracy: 0.9570\n",
      "Epoch 12/30\n",
      "94/94 [==============================] - 25s 267ms/step - loss: 0.2251 - accuracy: 0.9161 - val_loss: 0.1663 - val_accuracy: 0.9539\n",
      "Epoch 13/30\n",
      "94/94 [==============================] - 23s 249ms/step - loss: 0.2595 - accuracy: 0.9223 - val_loss: 0.1734 - val_accuracy: 0.9555\n",
      "Epoch 14/30\n",
      "94/94 [==============================] - 25s 264ms/step - loss: 0.2418 - accuracy: 0.9161 - val_loss: 0.1337 - val_accuracy: 0.9478\n",
      "Epoch 15/30\n",
      "94/94 [==============================] - 25s 261ms/step - loss: 0.2324 - accuracy: 0.9275 - val_loss: 0.2009 - val_accuracy: 0.9447\n",
      "Epoch 16/30\n",
      "94/94 [==============================] - 23s 245ms/step - loss: 0.1755 - accuracy: 0.9330 - val_loss: 0.1265 - val_accuracy: 0.9616\n",
      "Epoch 17/30\n",
      "94/94 [==============================] - 26s 272ms/step - loss: 0.1705 - accuracy: 0.9440 - val_loss: 0.1246 - val_accuracy: 0.9601\n",
      "Epoch 18/30\n",
      "94/94 [==============================] - 26s 279ms/step - loss: 0.2120 - accuracy: 0.9327 - val_loss: 0.0952 - val_accuracy: 0.9647\n",
      "Epoch 19/30\n",
      "94/94 [==============================] - 23s 244ms/step - loss: 0.2113 - accuracy: 0.9307 - val_loss: 0.1274 - val_accuracy: 0.9601\n",
      "Epoch 20/30\n",
      "94/94 [==============================] - 24s 251ms/step - loss: 0.2011 - accuracy: 0.9348 - val_loss: 0.1223 - val_accuracy: 0.9647\n",
      "Epoch 21/30\n",
      "94/94 [==============================] - 25s 261ms/step - loss: 0.1816 - accuracy: 0.9426 - val_loss: 0.1255 - val_accuracy: 0.9601\n",
      "Epoch 22/30\n",
      "94/94 [==============================] - 23s 242ms/step - loss: 0.1705 - accuracy: 0.9493 - val_loss: 0.1446 - val_accuracy: 0.9570\n",
      "Epoch 23/30\n",
      "94/94 [==============================] - 23s 241ms/step - loss: 0.1780 - accuracy: 0.9455 - val_loss: 0.1256 - val_accuracy: 0.9585\n",
      "Epoch 24/30\n",
      "94/94 [==============================] - 22s 234ms/step - loss: 0.1898 - accuracy: 0.9314 - val_loss: 0.1184 - val_accuracy: 0.9601\n",
      "Epoch 25/30\n",
      "94/94 [==============================] - 23s 245ms/step - loss: 0.1342 - accuracy: 0.9555 - val_loss: 0.1816 - val_accuracy: 0.9478\n",
      "Epoch 26/30\n",
      "94/94 [==============================] - 22s 234ms/step - loss: 0.1905 - accuracy: 0.9353 - val_loss: 0.1618 - val_accuracy: 0.9539\n",
      "Epoch 27/30\n",
      "94/94 [==============================] - 22s 239ms/step - loss: 0.1781 - accuracy: 0.9358 - val_loss: 0.1296 - val_accuracy: 0.9585\n",
      "Epoch 28/30\n",
      "94/94 [==============================] - 22s 237ms/step - loss: 0.1499 - accuracy: 0.9479 - val_loss: 0.1106 - val_accuracy: 0.9693\n",
      "Epoch 29/30\n",
      "94/94 [==============================] - 22s 238ms/step - loss: 0.1280 - accuracy: 0.9483 - val_loss: 0.1016 - val_accuracy: 0.9693\n",
      "Epoch 30/30\n",
      "94/94 [==============================] - 23s 242ms/step - loss: 0.1093 - accuracy: 0.9572 - val_loss: 0.1264 - val_accuracy: 0.9631\n"
     ]
    }
   ],
   "source": [
    "EPOCHS = 30 #40\n",
    "INIT_LR = 0.001\n",
    "BS = 16\n",
    "\n",
    "model = SmallVGGNet(IMAGE_DIMS)\n",
    "\n",
    "opt = Adam(lr=INIT_LR)\n",
    "\n",
    "model.compile(loss='categorical_crossentropy',\n",
    "             optimizer = opt,\n",
    "             metrics=['accuracy'])\n",
    "\n",
    "H = model.fit(\n",
    "        x=aug.flow(trainX, trainY, batch_size=BS), \n",
    "        validation_data=(testX, testY),\n",
    "        steps_per_epoch=len(trainX) // BS,\n",
    "        epochs=EPOCHS, verbose=1)"
   ]
  },
  {
   "cell_type": "code",
   "execution_count": 30,
   "metadata": {},
   "outputs": [
    {
     "data": {
      "image/png": "[encoded data removed]",
      "text/plain": [
       "<Figure size 432x288 with 1 Axes>"
      ]
     },
     "metadata": {},
     "output_type": "display_data"
    }
   ],
   "source": [
    "plt.style.use(\"ggplot\")\n",
    "plt.figure()\n",
    "N = EPOCHS\n",
    "#plt.plot(np.arange(0, N), H.history[\"loss\"], label=\"train_loss\")\n",
    "#plt.plot(np.arange(0, N), H.history[\"val_loss\"], label=\"val_loss\")\n",
    "plt.plot(np.arange(0, N), H.history[\"accuracy\"], label=\"train_acc\")\n",
    "plt.plot(np.arange(0, N), H.history[\"val_accuracy\"], label=\"val_acc\")\n",
    "plt.title(\"Training Accuracy Modelo Vestuario\")\n",
    "plt.xlabel(\"# Epochs\")\n",
    "plt.ylabel(\"Accuracy\")\n",
    "plt.legend(loc=\"center right\")\n",
    "plt.savefig('train-test-plot.png')"
   ]
  },
  {
   "cell_type": "code",
   "execution_count": 48,
   "metadata": {},
   "outputs": [
    {
     "name": "stdout",
     "output_type": "stream",
     "text": [
      "              precision    recall  f1-score   support\n",
      "\n",
      "    Vestidos       0.95      0.98      0.96       230\n",
      "       Jeans       0.99      0.97      0.98       210\n",
      "     Poleras       0.96      0.94      0.95       211\n",
      "\n",
      "    accuracy                           0.96       651\n",
      "   macro avg       0.96      0.96      0.96       651\n",
      "weighted avg       0.96      0.96      0.96       651\n",
      "\n"
     ]
    }
   ],
   "source": [
    "from sklearn.metrics import classification_report\n",
    "\n",
    "predictions= model.predict(testX,batch_size=BS)\n",
    "print(classification_report(testY.argmax(axis=1),predictions.argmax(axis=1),target_names=['Vestidos','Jeans','Poleras']))"
   ]
  },
  {
   "cell_type": "code",
   "execution_count": 11,
   "metadata": {},
   "outputs": [],
   "source": [
    "model.save('model-v2.hdf5', save_format=\"hdf5\")"
   ]
  },
  {
   "cell_type": "code",
   "execution_count": 43,
   "metadata": {},
   "outputs": [
    {
     "name": "stdout",
     "output_type": "stream",
     "text": [
      "Model: \"sequential_8\"\n",
      "_________________________________________________________________\n",
      "Layer (type)                 Output Shape              Param #   \n",
      "=================================================================\n",
      "conv2d_40 (Conv2D)           (None, 96, 96, 32)        896       \n",
      "_________________________________________________________________\n",
      "activation_56 (Activation)   (None, 96, 96, 32)        0         \n",
      "_________________________________________________________________\n",
      "batch_normalization_48 (Batc (None, 96, 96, 32)        128       \n",
      "_________________________________________________________________\n",
      "max_pooling2d_24 (MaxPooling (None, 32, 32, 32)        0         \n",
      "_________________________________________________________________\n",
      "dropout_32 (Dropout)         (None, 32, 32, 32)        0         \n",
      "_________________________________________________________________\n",
      "conv2d_41 (Conv2D)           (None, 32, 32, 64)        18496     \n",
      "_________________________________________________________________\n",
      "activation_57 (Activation)   (None, 32, 32, 64)        0         \n",
      "_________________________________________________________________\n",
      "batch_normalization_49 (Batc (None, 32, 32, 64)        256       \n",
      "_________________________________________________________________\n",
      "conv2d_42 (Conv2D)           (None, 32, 32, 64)        36928     \n",
      "_________________________________________________________________\n",
      "activation_58 (Activation)   (None, 32, 32, 64)        0         \n",
      "_________________________________________________________________\n",
      "batch_normalization_50 (Batc (None, 32, 32, 64)        256       \n",
      "_________________________________________________________________\n",
      "max_pooling2d_25 (MaxPooling (None, 16, 16, 64)        0         \n",
      "_________________________________________________________________\n",
      "dropout_33 (Dropout)         (None, 16, 16, 64)        0         \n",
      "_________________________________________________________________\n",
      "conv2d_43 (Conv2D)           (None, 16, 16, 128)       73856     \n",
      "_________________________________________________________________\n",
      "activation_59 (Activation)   (None, 16, 16, 128)       0         \n",
      "_________________________________________________________________\n",
      "batch_normalization_51 (Batc (None, 16, 16, 128)       512       \n",
      "_________________________________________________________________\n",
      "conv2d_44 (Conv2D)           (None, 16, 16, 128)       147584    \n",
      "_________________________________________________________________\n",
      "activation_60 (Activation)   (None, 16, 16, 128)       0         \n",
      "_________________________________________________________________\n",
      "batch_normalization_52 (Batc (None, 16, 16, 128)       512       \n",
      "_________________________________________________________________\n",
      "max_pooling2d_26 (MaxPooling (None, 8, 8, 128)         0         \n",
      "_________________________________________________________________\n",
      "dropout_34 (Dropout)         (None, 8, 8, 128)         0         \n",
      "_________________________________________________________________\n",
      "flatten_8 (Flatten)          (None, 8192)              0         \n",
      "_________________________________________________________________\n",
      "dense_16 (Dense)             (None, 1024)              8389632   \n",
      "_________________________________________________________________\n",
      "activation_61 (Activation)   (None, 1024)              0         \n",
      "_________________________________________________________________\n",
      "batch_normalization_53 (Batc (None, 1024)              4096      \n",
      "_________________________________________________________________\n",
      "dropout_35 (Dropout)         (None, 1024)              0         \n",
      "_________________________________________________________________\n",
      "dense_17 (Dense)             (None, 3)                 3075      \n",
      "_________________________________________________________________\n",
      "activation_62 (Activation)   (None, 3)                 0         \n",
      "=================================================================\n",
      "Total params: 8,676,227\n",
      "Trainable params: 8,673,347\n",
      "Non-trainable params: 2,880\n",
      "_________________________________________________________________\n"
     ]
    }
   ],
   "source": [
    "model.summary()"
   ]
  },
  {
   "cell_type": "code",
   "execution_count": 19,
   "metadata": {},
   "outputs": [
    {
     "data": {
      "text/plain": [
       "'/Users/nicolas/projectos-falabella/Falabella-talk'"
      ]
     },
     "execution_count": 19,
     "metadata": {},
     "output_type": "execute_result"
    }
   ],
   "source": [
    "%pwd"
   ]
  },
  {
   "cell_type": "markdown",
   "metadata": {},
   "source": [
    "# Out of the box Model Testing"
   ]
  },
  {
   "cell_type": "code",
   "execution_count": 64,
   "metadata": {},
   "outputs": [],
   "source": [
    "import cv2\n",
    "from keras.preprocessing.image import img_to_array\n",
    "from keras.models import load_model\n",
    "\n",
    "model = load_model('model-v2.h5')"
   ]
  },
  {
   "cell_type": "code",
   "execution_count": 57,
   "metadata": {},
   "outputs": [
    {
     "data": {
      "image/png": "[encoded data removed]",
      "text/plain": [
       "<Figure size 432x288 with 1 Axes>"
      ]
     },
     "metadata": {},
     "output_type": "display_data"
    }
   ],
   "source": [
    "img = cv2.imread('polera-jeans.jpg')\n",
    "\n",
    "plt.imshow(cv2.cvtColor(img,cv2.COLOR_BGR2RGB))\n",
    "plt.show()"
   ]
  },
  {
   "cell_type": "code",
   "execution_count": 58,
   "metadata": {},
   "outputs": [
    {
     "data": {
      "text/plain": [
       "array([[9.9960297e-01, 2.2684591e-04, 1.7012998e-04]], dtype=float32)"
      ]
     },
     "execution_count": 58,
     "metadata": {},
     "output_type": "execute_result"
    }
   ],
   "source": [
    "img = cv2.resize(img,(96,96))\n",
    "img = img.astype(\"float\") / 255.0\n",
    "img = np.array(img)\n",
    "img = np.expand_dims(img, axis=0)\n",
    "model.predict(img)"
   ]
  },
  {
   "cell_type": "code",
   "execution_count": null,
   "metadata": {},
   "outputs": [],
   "source": []
  }
 ],
 "metadata": {
  "kernelspec": {
   "display_name": "Python 3",
   "language": "python",
   "name": "python3"
  },
  "language_info": {
   "codemirror_mode": {
    "name": "ipython",
    "version": 3
   },
   "file_extension": ".py",
   "mimetype": "text/x-python",
   "name": "python",
   "nbconvert_exporter": "python",
   "pygments_lexer": "ipython3",
   "version": "3.8.7"
  }
 },
 "nbformat": 4,
 "nbformat_minor": 4
}
